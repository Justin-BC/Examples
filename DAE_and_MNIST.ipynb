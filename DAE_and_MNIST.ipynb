{
 "cells": [
  {
   "cell_type": "markdown",
   "metadata": {},
   "source": [
    "# Denoising AE with MNIST (w/ Pytorch)\n",
    "\n",
    "Example taken from:\n",
    "\n",
    "* http://www.opendeep.org/v0.0.5/docs/tutorial-your-first-model\n",
    "\n",
    "* https://gist.github.com/bigsnarfdude/dde651f6e06f266b48bc3750ac730f80\n"
   ]
  },
  {
   "cell_type": "markdown",
   "metadata": {},
   "source": [
    "## Import PyTorch"
   ]
  },
  {
   "cell_type": "code",
   "execution_count": 1,
   "metadata": {},
   "outputs": [],
   "source": [
    "import torch\n",
    "import torch.nn as nn\n",
    "import torchvision.datasets as dsets\n",
    "import torchvision.transforms as transforms\n",
    "from torch.autograd import Variable\n",
    "import numpy as np\n",
    "import matplotlib.pyplot as plt"
   ]
  },
  {
   "cell_type": "code",
   "execution_count": 3,
   "metadata": {},
   "outputs": [
    {
     "data": {
      "text/plain": [
       "False"
      ]
     },
     "execution_count": 3,
     "metadata": {},
     "output_type": "execute_result"
    }
   ],
   "source": []
  },
  {
   "cell_type": "code",
   "execution_count": 5,
   "metadata": {},
   "outputs": [
    {
     "name": "stdout",
     "output_type": "stream",
     "text": [
      "\n",
      "Run on cpu\n"
     ]
    }
   ],
   "source": [
    "# Choose cpu/gpu\n",
    "use_gpu=0 #change to 0 if use of cpu\n",
    "\n",
    "if (use_gpu):\n",
    "    print('\\nEnable gpu')\n",
    "    dtype = torch.cuda.FloatTensor\n",
    "    device = torch.device(\"cuda\") \n",
    "    \n",
    "else:\n",
    "    print('\\nRun on cpu')\n",
    "    dtype = torch.FloatTensor\n",
    "    device = torch.device(\"cpu\")"
   ]
  },
  {
   "cell_type": "code",
   "execution_count": 6,
   "metadata": {},
   "outputs": [
    {
     "data": {
      "text/plain": [
       "False"
      ]
     },
     "execution_count": 6,
     "metadata": {},
     "output_type": "execute_result"
    }
   ],
   "source": [
    "torch.cuda.is_available()"
   ]
  },
  {
   "cell_type": "markdown",
   "metadata": {},
   "source": [
    "## Initialize Hyper-parameters"
   ]
  },
  {
   "cell_type": "code",
   "execution_count": 7,
   "metadata": {},
   "outputs": [],
   "source": [
    "input_size = 784       # The image size = 28 x 28 = 784\n",
    "encoding_dim1 = 350    # latence space\n",
    "encoding_dim2 = 150    # \n",
    "num_epochs = 20        # The number of times entire dataset is trained\n",
    "batch_size = 1000       # The size of input data took for one iteration\n",
    "learning_rate = 0.001  # The speed of convergence"
   ]
  },
  {
   "cell_type": "markdown",
   "metadata": {},
   "source": [
    "## Download MNIST Dataset"
   ]
  },
  {
   "cell_type": "code",
   "execution_count": 8,
   "metadata": {},
   "outputs": [],
   "source": [
    "train_dataset = dsets.MNIST(root='./data',\n",
    "                           train=True,\n",
    "                           transform=transforms.ToTensor(),\n",
    "                           download=False)\n",
    "\n",
    "test_dataset = dsets.MNIST(root='./data',\n",
    "                           train=False,\n",
    "                           transform=transforms.ToTensor())"
   ]
  },
  {
   "cell_type": "markdown",
   "metadata": {},
   "source": [
    "## Load the Dataset"
   ]
  },
  {
   "cell_type": "markdown",
   "metadata": {},
   "source": [
    "We shuffle the loading process of train_dataset to make the learning process independent of data orderness, but the order of test_loader remains to examine whether we can handle unspecified bias order of inputs."
   ]
  },
  {
   "cell_type": "code",
   "execution_count": 9,
   "metadata": {},
   "outputs": [],
   "source": [
    "train_loader = torch.utils.data.DataLoader(dataset=train_dataset,\n",
    "                                          batch_size=batch_size,\n",
    "                                          shuffle=True)\n",
    "\n",
    "test_loader = torch.utils.data.DataLoader(dataset=test_dataset,\n",
    "                                          batch_size=batch_size,\n",
    "                                          shuffle=False)"
   ]
  },
  {
   "cell_type": "markdown",
   "metadata": {},
   "source": [
    "## Add noise to data"
   ]
  },
  {
   "cell_type": "code",
   "execution_count": 10,
   "metadata": {},
   "outputs": [],
   "source": [
    "def add_noise(data,scale):\n",
    "    noise = torch.randn(data.shape) * scale\n",
    "    noisy_data = data + noise\n",
    "    return noisy_data\n",
    "\n",
    "# Alternative possibilities\n",
    "def salt_and_pepper(data,frac):\n",
    "    \"\"\"set frac of values to 0 or 1\"\"\"\n",
    "    temp = data.clone()\n",
    "    temp = temp.flatten()    # flatten the tensor for more simplicity\n",
    "    dim  = temp.shape[0] # tensor lenght\n",
    "    #dim  = temp.numpy().size # tensor lenght\n",
    "    num  = round(dim*frac)   # number of values to change\n",
    "    #ind0 = np.random.choice(dim, size=num) # index of 0\n",
    "    ind1 = np.random.choice(dim, size=num) # index of 1\n",
    "    #temp[ind0]=0\n",
    "    temp[ind1]=1\n",
    "    temp = temp.reshape(data.shape)\n",
    "    return temp\n",
    "\n",
    "def data_with_zeros(data):\n",
    "    # Set some of the input variables to zero\n",
    "    # zeros = torch.round(torch.rand(data.shape)*1.49).type(dtype) # tensor with only 0 or 1 values (about 33% are zeros)\n",
    "    zeros = torch.round(torch.rand(data.shape)) # tensor with only 0 or 1 values (about 50% are zeros)\n",
    "    return data*zeros"
   ]
  },
  {
   "cell_type": "markdown",
   "metadata": {},
   "source": [
    "## See some examples of the data \n",
    "(from the test_loader)"
   ]
  },
  {
   "cell_type": "code",
   "execution_count": 11,
   "metadata": {
    "scrolled": true
   },
   "outputs": [
    {
     "name": "stdout",
     "output_type": "stream",
     "text": [
      "batch data: torch.Size([1000, 1, 28, 28])\n"
     ]
    },
    {
     "data": {
      "image/png": "[encoded data removed]",
      "text/plain": [
       "<Figure size 432x288 with 6 Axes>"
      ]
     },
     "metadata": {},
     "output_type": "display_data"
    }
   ],
   "source": [
    "examples = enumerate(test_loader)\n",
    "batch_idx, (example_data, example_targets) = next(examples)\n",
    "\n",
    "# Let's see what one test data batch consists of\n",
    "# --> we have [batch_size] examples of 28x28 pixels in grayscale (i.e. no rgb channels, hence the one). \n",
    "print(\"batch data:\", example_data.shape)\n",
    "\n",
    "# Plot some examples with matplotlib\n",
    "fig = plt.figure()\n",
    "for i in range(6):\n",
    "  plt.subplot(2,3,i+1)\n",
    "  plt.tight_layout()\n",
    "  plt.imshow(example_data[i][0], cmap='gray', interpolation='none')\n",
    "  #plt.title(\"Ground Truth: {}\".format(example_targets[i]))\n",
    "  plt.xticks([])\n",
    "  plt.yticks([])\n",
    "    \n",
    "plt.show()"
   ]
  },
  {
   "cell_type": "markdown",
   "metadata": {},
   "source": [
    "## Look at corrupted data"
   ]
  },
  {
   "cell_type": "code",
   "execution_count": 12,
   "metadata": {},
   "outputs": [
    {
     "data": {
      "image/png": "[encoded data removed]",
      "text/plain": [
       "<Figure size 432x288 with 6 Axes>"
      ]
     },
     "metadata": {},
     "output_type": "display_data"
    }
   ],
   "source": [
    "scale = 0.2\n",
    "corrupted_data = add_noise(example_data,scale)\n",
    "\n",
    "#fcor  = 0.20 # fraction of corrupted pixels (set to 0 or 1)\n",
    "#corrupted_data = salt_and_pepper(example_data,fcor)\n",
    "\n",
    "# Plot some examples with matplotlib\n",
    "fig = plt.figure()\n",
    "for i in range(6):\n",
    "  plt.subplot(2,3,i+1)\n",
    "  plt.tight_layout()\n",
    "  plt.imshow(corrupted_data[i][0], cmap='gray', interpolation='none')\n",
    "  #plt.title(\"Ground Truth: {}\".format(example_targets[i]))\n",
    "  plt.xticks([])\n",
    "  plt.yticks([])\n",
    "    \n",
    "plt.show()"
   ]
  },
  {
   "cell_type": "markdown",
   "metadata": {},
   "source": [
    "## Autoencoder model"
   ]
  },
  {
   "cell_type": "code",
   "execution_count": 13,
   "metadata": {},
   "outputs": [],
   "source": [
    "net = nn.Sequential(\n",
    "        nn.Linear(input_size, encoding_dim1),\n",
    "        nn.ReLU(True),\n",
    "        nn.Linear(encoding_dim1, encoding_dim2),\n",
    "        nn.ReLU(True),\n",
    "        nn.Linear(encoding_dim2, encoding_dim1),\n",
    "        nn.ReLU(True),\n",
    "        nn.Linear(encoding_dim1, input_size),\n",
    "        nn.Sigmoid()\n",
    ")"
   ]
  },
  {
   "cell_type": "markdown",
   "metadata": {},
   "source": [
    "## Enable GPU "
   ]
  },
  {
   "cell_type": "code",
   "execution_count": 14,
   "metadata": {},
   "outputs": [],
   "source": [
    "if (use_gpu):\n",
    "    net.cuda()"
   ]
  },
  {
   "cell_type": "code",
   "execution_count": 15,
   "metadata": {},
   "outputs": [],
   "source": [
    "#conda install -c pytorch torchvision cudatoolkit=10.1.243 pytorch"
   ]
  },
  {
   "cell_type": "markdown",
   "metadata": {},
   "source": [
    "## Choose the Loss Function and Optimizer"
   ]
  },
  {
   "cell_type": "code",
   "execution_count": 16,
   "metadata": {},
   "outputs": [],
   "source": [
    "#criterion = nn.CrossEntropyLoss()\n",
    "#criterion = nn.BCELoss()\n",
    "criterion = nn.MSELoss()\n",
    "optimizer = torch.optim.Adam(net.parameters(), lr=learning_rate)\n",
    "\n",
    "# alternative Stochastic Gradient Descent (give worse results and needs 20xlr and 20 epochs)\n",
    "#optimizer = torch.optim.SGD(net.parameters(), lr=learning_rate)"
   ]
  },
  {
   "cell_type": "code",
   "execution_count": 17,
   "metadata": {},
   "outputs": [],
   "source": [
    "train_losses = []\n",
    "train_counter = []\n",
    "test_losses = []\n",
    "test_counter = [i*len(train_loader.dataset) for i in range(num_epochs + 1)]"
   ]
  },
  {
   "cell_type": "markdown",
   "metadata": {},
   "source": [
    "## Load existing model (optional)"
   ]
  },
  {
   "cell_type": "raw",
   "metadata": {},
   "source": [
    "net.load_state_dict(torch.load('models/dae_mnist_model_%d_%d.pkl' % (encoding_dim1,encoding_dim2)))"
   ]
  },
  {
   "cell_type": "markdown",
   "metadata": {},
   "source": [
    "## Train the DAE Model\n",
    "\n",
    "Note: torch.nn only supports mini-batches. The entire torch.nn package only supports inputs that are a mini-batch of samples, and not a single sample. If you have a single sample, just use input.unsqueeze(0) to add a fake batch dimension."
   ]
  },
  {
   "cell_type": "code",
   "execution_count": 18,
   "metadata": {},
   "outputs": [],
   "source": [
    "for epoch in range(num_epochs):\n",
    "    for i, (images, labels) in enumerate(train_loader):   # Load a batch of images with its (index, data, class)\n",
    "\n",
    "        corrupted_images = add_noise(images,scale)\n",
    "        #corrupted_images = data_with_zeros(images)\n",
    "        #corrupted_images = salt_and_pepper(images,fcor)\n",
    "           \n",
    "        images = images.type(dtype)\n",
    "        images = Variable(images.view(-1, 28*28))         # Convert torch tensor to Variable: change image from a matrix of 28 x 28 from to a vector of size 784 (view works as numpy's reshape function)\n",
    "        corrupted_images = Variable(corrupted_images.view(-1, 28*28))\n",
    "\n",
    "        target = images\n",
    "                \n",
    "        optimizer.zero_grad()                             # Intialize the hidden weight to all zeros\n",
    "        outputs = net(images)                             # Forward pass: compute the output class given a image\n",
    "\n",
    "        #print(outputs.flatten().shape, target.flatten().shape)\n",
    "        #loss = criterion(outputs.flatten(), target.flatten())                 # Compute the loss: difference between the output class and the pre-given label\n",
    "        loss = criterion(outputs, target)                 # Compute the loss: difference between the output class and the pre-given label\n",
    "        loss.backward()                                   # Backward pass: compute the weight\n",
    "        optimizer.step()                                  # Optimizer: update the weights of hidden nodes\n",
    "        \n",
    "        if (i+1) % 100 == 0:                              # Logging\n",
    "            print('Epoch [%d/%d], Step [%d/%d], Loss: %.4f'\n",
    "                 %(epoch+1, num_epochs, i+1, len(train_dataset)//batch_size, loss.item()))\n",
    "            \n",
    "        if (i+1) % 10 == 0:                              # keep track of loss value\n",
    "            train_losses.append(loss.item())\n",
    "            train_counter.append(((i+1)*batch_size) + ((epoch)*len(train_loader.dataset)))"
   ]
  },
  {
   "cell_type": "markdown",
   "metadata": {},
   "source": [
    "## Evaluating the Model's Performance"
   ]
  },
  {
   "cell_type": "code",
   "execution_count": 19,
   "metadata": {},
   "outputs": [
    {
     "data": {
      "text/plain": [
       "Text(0, 0.5, 'Loss')"
      ]
     },
     "execution_count": 19,
     "metadata": {},
     "output_type": "execute_result"
    },
    {
     "data": {
      "image/png": "[encoded data removed]",
      "text/plain": [
       "<Figure size 432x288 with 1 Axes>"
      ]
     },
     "metadata": {
      "needs_background": "light"
     },
     "output_type": "display_data"
    }
   ],
   "source": [
    "fig = plt.figure()\n",
    "plt.plot(train_counter, train_losses, color='blue')\n",
    "#plt.scatter(test_counter, test_losses, color='red')\n",
    "#plt.legend(['Train Loss', 'Test Loss'], loc='upper right')\n",
    "plt.legend(['Train Loss'], loc='upper right')\n",
    "plt.xlabel('number of training examples seen')\n",
    "plt.ylabel('Loss')\n",
    "#plt.savefig('images/dae/loss.png')\n"
   ]
  },
  {
   "cell_type": "markdown",
   "metadata": {},
   "source": [
    "## Test denoising AE"
   ]
  },
  {
   "cell_type": "code",
   "execution_count": 20,
   "metadata": {},
   "outputs": [
    {
     "data": {
      "image/png": "[encoded data removed]",
      "text/plain": [
       "<Figure size 432x432 with 9 Axes>"
      ]
     },
     "metadata": {},
     "output_type": "display_data"
    },
    {
     "data": {
      "image/png": "[encoded data removed]",
      "text/plain": [
       "<Figure size 432x432 with 9 Axes>"
      ]
     },
     "metadata": {},
     "output_type": "display_data"
    },
    {
     "data": {
      "image/png": "[encoded data removed]",
      "text/plain": [
       "<Figure size 432x432 with 9 Axes>"
      ]
     },
     "metadata": {},
     "output_type": "display_data"
    }
   ],
   "source": [
    "examples = enumerate(test_loader)\n",
    "batch_idx, (images, labels) = next(examples)\n",
    "\n",
    "# Plot some examples with matplotlib\n",
    "figsize=(6,6)\n",
    "\n",
    "# original image\n",
    "#images = Variable(images.view(-1, 28*28))\n",
    "plt.figure(figsize=figsize)\n",
    "for i in range(9):\n",
    "  plt.subplot(3,3,i+1)\n",
    "  plt.tight_layout()\n",
    "  plt.imshow(images[i][0], cmap='gray', interpolation='none')\n",
    "  #plt.title(\"Ground Truth: {}\".format(example_targets[i]))\n",
    "  plt.xticks([])\n",
    "  plt.yticks([])\n",
    "#plt.show()\n",
    "#plt.savefig(\"images/dae/digit_original_%d.png\" %(batch_idx))\n",
    "\n",
    "# corrupted image\n",
    "#corrupted_images = data_with_zeros(images)\n",
    "#corrupted_images = salt_and_pepper(images,fcor)\n",
    "corrupted_images = add_noise(images,scale)\n",
    "plt.figure(figsize=figsize)\n",
    "for i in range(9):\n",
    "  plt.subplot(3,3,i+1)\n",
    "  plt.tight_layout()\n",
    "  plt.imshow(corrupted_images[i][0], cmap='gray', interpolation='none')\n",
    "  #plt.title(\"Ground Truth: {}\".format(example_targets[i]))\n",
    "  plt.xticks([])\n",
    "  plt.yticks([])\n",
    "#plt.show()\n",
    "#plt.savefig(\"images/dae/digit_noisy_%d.png\" %(batch_idx))\n",
    "corrupted_images = Variable(corrupted_images.view(-1, 28*28))\n",
    "\n",
    "# reco image\n",
    "reco_images = net(corrupted_images.type(dtype))\n",
    "reco_images = Variable(reco_images.view(-1,1,28,28))\n",
    "plt.figure(figsize=figsize)\n",
    "\n",
    "for i in range(9):\n",
    "  plt.subplot(3,3,i+1)\n",
    "  plt.tight_layout()\n",
    "  plt.imshow(reco_images.cpu()[i][0], cmap='gray', interpolation='none')\n",
    "  #plt.title(\"Ground Truth: {}\".format(example_targets[i]))\n",
    "  plt.xticks([])\n",
    "  plt.yticks([])\n",
    "#plt.show()\n",
    "#plt.savefig(\"images/dae/digit_reco_%d.png\" %(batch_idx))"
   ]
  },
  {
   "cell_type": "raw",
   "metadata": {},
   "source": [
    "# Save the model for future implementations\n",
    "torch.save(net.state_dict(), 'models/dae_mnist_model_%d_%d.pkl' % (encoding_dim1,encoding_dim2))"
   ]
  }
 ],
 "metadata": {
  "kernelspec": {
   "display_name": "Python 3",
   "language": "python",
   "name": "python3"
  },
  "language_info": {
   "codemirror_mode": {
    "name": "ipython",
    "version": 3
   },
   "file_extension": ".py",
   "mimetype": "text/x-python",
   "name": "python",
   "nbconvert_exporter": "python",
   "pygments_lexer": "ipython3",
   "version": "3.7.7"
  }
 },
 "nbformat": 4,
 "nbformat_minor": 4
}
